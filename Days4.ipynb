{
 "cells": [
  {
   "cell_type": "code",
   "execution_count": 14,
   "metadata": {},
   "outputs": [
    {
     "name": "stdout",
     "output_type": "stream",
     "text": [
      "Enter your choice 0 for rock, 1 for paper and 3 for scissors ? 2\n",
      " your choice \n",
      "    _______\n",
      "---'   ____)____\n",
      "          ______)\n",
      "       __________)\n",
      "      (____)\n",
      "---.__(___)\n",
      "\n",
      " computer choice \n",
      "    _______\n",
      "---'   ____)____\n",
      "          ______)\n",
      "          _______)\n",
      "         _______)\n",
      "---.__________)\n",
      "\n",
      "YAY! You Won!\n"
     ]
    }
   ],
   "source": [
    "rock = '''\n",
    "    _______\n",
    "---'   ____)\n",
    "      (_____)\n",
    "      (_____)\n",
    "      (____)\n",
    "---.__(___)\n",
    "'''\n",
    "\n",
    "paper = '''\n",
    "    _______\n",
    "---'   ____)____\n",
    "          ______)\n",
    "          _______)\n",
    "         _______)\n",
    "---.__________)\n",
    "'''\n",
    "\n",
    "scissors = '''\n",
    "    _______\n",
    "---'   ____)____\n",
    "          ______)\n",
    "       __________)\n",
    "      (____)\n",
    "---.__(___)\n",
    "'''\n",
    "\n",
    "#Write your code below this line 👇\n",
    "import random\n",
    "choice = [rock,paper,scissors]\n",
    "your_choice = int(input(\"Enter your choice 0 for rock, 1 for paper and 3 for scissors ? \")) \n",
    "\n",
    "computer_choice = random.randint(0,2)\n",
    "print(f\" your choice {choice[your_choice]}\")\n",
    "print(f\" computer choice {choice[computer_choice]}\")\n",
    "if your_choice == computer_choice:\n",
    "    print(\"It's a tie!!!\")\n",
    "    \n",
    "if your_choice == 0:\n",
    "    if computer_choice == 2:\n",
    "        print(\"YAY! You Won!\")\n",
    "    else:\n",
    "        print(\"Computer wins\")\n",
    "elif your_choice == 1:\n",
    "    if computer_choice == 0:\n",
    "        print(\"YAY! You Won!\")\n",
    "    else:\n",
    "        print(\"Computer wins\")\n",
    "elif your_choice == 2:\n",
    "    if computer_choice == 1:\n",
    "        print(\"YAY! You Won!\")\n",
    "    else:\n",
    "        print(\"Computer wins\")"
   ]
  },
  {
   "cell_type": "code",
   "execution_count": null,
   "metadata": {},
   "outputs": [],
   "source": []
  }
 ],
 "metadata": {
  "kernelspec": {
   "display_name": "Python 3",
   "language": "python",
   "name": "python3"
  },
  "language_info": {
   "codemirror_mode": {
    "name": "ipython",
    "version": 3
   },
   "file_extension": ".py",
   "mimetype": "text/x-python",
   "name": "python",
   "nbconvert_exporter": "python",
   "pygments_lexer": "ipython3",
   "version": "3.8.5"
  }
 },
 "nbformat": 4,
 "nbformat_minor": 4
}
