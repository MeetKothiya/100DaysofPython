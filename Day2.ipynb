{
 "cells": [
  {
   "cell_type": "code",
   "execution_count": 1,
   "metadata": {},
   "outputs": [
    {
     "name": "stdout",
     "output_type": "stream",
     "text": [
      "Welcome to Tip Calculator\n",
      "What is the total Bill?167.25\n",
      "What Percentage of tip would you like to give 10,12 or 15?12\n",
      "How many people to split the bill?7\n",
      "Each Person Pay: $ 26.76\n"
     ]
    }
   ],
   "source": [
    "print(\"Welcome to Tip Calculator\")\n",
    "\n",
    "bill = float(input(\"What is the total Bill?\"))\n",
    "tip = int(input(\"What Percentage of tip would you like to give 10,12 or 15?\"))\n",
    "t_people = int(input(\"How many people to split the bill?\"))\n",
    "\n",
    "bill_with_tip = bill + (bill * (tip/100))\n",
    "bill_per_person = (bill_with_tip / t_people)\n",
    "final = round(bill_per_person, 2)\n",
    "\n",
    "print(\"Each Person Pay: $\",final)"
   ]
  }
 ],
 "metadata": {
  "kernelspec": {
   "display_name": "Python 3",
   "language": "python",
   "name": "python3"
  },
  "language_info": {
   "codemirror_mode": {
    "name": "ipython",
    "version": 3
   },
   "file_extension": ".py",
   "mimetype": "text/x-python",
   "name": "python",
   "nbconvert_exporter": "python",
   "pygments_lexer": "ipython3",
   "version": "3.8.5"
  }
 },
 "nbformat": 4,
 "nbformat_minor": 4
}
